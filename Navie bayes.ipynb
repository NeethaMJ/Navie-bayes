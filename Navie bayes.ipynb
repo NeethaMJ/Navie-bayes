{
 "cells": [
  {
   "cell_type": "code",
   "execution_count": null,
   "id": "c70ac2e3",
   "metadata": {},
   "outputs": [],
   "source": [
    "Naive bayes Assignment"
   ]
  },
  {
   "cell_type": "code",
   "execution_count": null,
   "id": "4585d557",
   "metadata": {},
   "outputs": [],
   "source": [
    "Q1. What is Bayes' theorem?\n",
    "\n",
    "ANS update the probability of a hypothesis based on new evidence. It provides a way to compute the probability of a hypothesis (event) given prior knowledge and new data.\n",
    "\n",
    "\n"
   ]
  },
  {
   "cell_type": "code",
   "execution_count": null,
   "id": "bd3e6611",
   "metadata": {},
   "outputs": [],
   "source": [
    "Q2. What is the formula for Bayes' theorem?\n",
    "\n",
    "ANS Formula\n",
    "Bayes' theorem is expressed mathematically as:\n",
    "\n",
    "P(A∣B)= P(B∣A)⋅P(A)/P(B)"
   ]
  },
  {
   "cell_type": "code",
   "execution_count": null,
   "id": "9b49087d",
   "metadata": {},
   "outputs": [],
   "source": [
    "Q3. How is Bayes' theorem used in practice?\n",
    "\n",
    "ANS : Bayes' theorem has a wide range of practical applications across various fields. Here are some common ways it is used:\n",
    "\n",
    "1. Medical Diagnosis\n",
    "Bayes' theorem is frequently used in medical diagnostics to update the probability of a disease given test results. For instance, if a test for a disease has a certain accuracy rate, Bayes' theorem can help determine the likelihood that a patient actually has the disease given a positive test result, taking into account the test's accuracy and the prevalence of the disease.\n",
    "\n",
    "Example: Given a test with a 99% sensitivity (true positive rate) and a 95% specificity (true negative rate), if a patient tests positive, Bayes' theorem can be used to compute the probability that the patient actually has the disease, considering the prevalence of the disease in the population.\n",
    "\n",
    "2. Spam Filtering\n",
    "In email systems, Bayes' theorem is used in spam filters to classify emails as spam or not spam. The filter updates the probability that an email is spam based on the words it contains and the known frequencies of these words in spam and non-spam emails.\n",
    "\n",
    "Example: If an email contains certain keywords that frequently appear in spam, Bayes' theorem can calculate the probability that the email is spam based on these keywords and their occurrence in previous spam and non-spam messages.\n",
    "\n",
    "3. Risk Management\n",
    "In finance and insurance, Bayes' theorem helps in assessing risk and making decisions based on updated information. For example, it can be used to estimate the probability of an investment's success given new market conditions or financial reports.\n",
    "\n",
    "Example: An insurance company might use Bayes' theorem to adjust the risk assessment for a policyholder based on new claims data and the historical performance of similar policies.\n",
    "\n",
    "4. Machine Learning and Data Science\n",
    "Bayes' theorem is foundational in machine learning, particularly in Bayesian methods and algorithms. It is used to update the probabilities of models and parameters based on new data, and in techniques like Naive Bayes classification.\n",
    "\n",
    "Example: In a Naive Bayes classifier, Bayes' theorem is used to predict the class of an object (e.g., whether a customer will buy a product) based on the features of the object (e.g., previous purchase behavior).\n",
    "\n",
    "5. Weather Forecasting\n",
    "Bayes' theorem is applied in meteorology to update weather predictions based on new data from weather stations, satellite observations, and other sources. It helps in refining forecasts by incorporating the likelihood of various weather conditions given new observations.\n",
    "\n",
    "Example: If weather conditions observed today are consistent with historical patterns of a particular weather event (e.g., rain), Bayes' theorem can be used to update the probability of rain tomorrow.\n",
    "\n",
    "6. Decision Making\n",
    "In decision theory, Bayes' theorem is used to update the probabilities of different outcomes and make decisions based on the latest information.\n",
    "\n",
    "Example: A business might use Bayes' theorem to update the likelihood of a successful product launch based on market research data and sales forecasts.\n",
    "\n",
    "Summary\n",
    "Bayes' theorem provides a structured way to incorporate new evidence and update probabilities, making it a powerful tool in various practical applications where decisions need to be made based on incomplete or evolving information."
   ]
  },
  {
   "cell_type": "code",
   "execution_count": null,
   "id": "807ae4b4",
   "metadata": {},
   "outputs": [],
   "source": [
    "Q4. What is the relationship between Bayes' theorem and conditional probability?\n",
    "\n",
    "ANS :Bayes' theorem and conditional probability are closely related concepts in probability theory. Understanding their relationship can help clarify how Bayes' theorem is derived and applied.\n",
    "\n",
    "Conditional Probability\n",
    "Conditional probability is the probability of an event occurring given that another event has already occurred. It is denoted as \n",
    "𝑃(𝐴∣𝐵)\n",
    "P(A∣B), which reads as \"the probability of 𝐴 given B.\"\n",
    "\n",
    "\n"
   ]
  },
  {
   "cell_type": "code",
   "execution_count": null,
   "id": "0f18007a",
   "metadata": {},
   "outputs": [],
   "source": [
    "Q5. How do you choose which type of Naive Bayes classifier to use for any given problem?\n",
    "\n",
    "ANS : Choosing the appropriate type of Naive Bayes classifier for a given problem depends on the nature of the data you are working with. Naive Bayes classifiers are based on the Bayes' theorem and assume that features are conditionally independent given the class label. There are different types of Naive Bayes classifiers, each suited to different types of data distributions. Here’s a guide to help you choose the right one:\n",
    "\n",
    "1. Gaussian Naive Bayes\n",
    "Use Case: When your features are continuous and you assume they follow a Gaussian (normal) distribution.\n",
    "\n",
    "Characteristics:\n",
    "\n",
    "Assumes that the features follow a normal distribution.\n",
    "Useful when you have continuous features and want to model them as normally distributed.\n",
    "Example: Predicting the likelihood of a customer purchasing a product based on continuous features like age, income, and hours spent browsing.\n",
    "\n",
    "2. Multinomial Naive Bayes\n",
    "Use Case: When your features are discrete and you have counts or frequencies.\n",
    "\n",
    "Characteristics:\n",
    "\n",
    "Assumes that features are discrete and represent counts or frequencies.\n",
    "Commonly used in text classification where the features are word counts or term frequencies.\n",
    "Example: Classifying documents into categories based on word counts or term frequencies (e.g., spam vs. non-spam email classification).\n",
    "\n",
    "3. Bernoulli Naive Bayes\n",
    "Use Case: When your features are binary (0/1) or categorical and represent the presence or absence of features.\n",
    "\n",
    "Characteristics:\n",
    "\n",
    "Assumes that features are binary or can be transformed into binary features.\n",
    "Useful for text classification tasks where the presence or absence of a word is used as a feature.\n",
    "Example: Document classification where you want to classify documents based on whether specific keywords are present or not (e.g., sentiment analysis).\n",
    "\n",
    "Summary of When to Use Each Classifier\n",
    "Gaussian Naive Bayes:\n",
    "\n",
    "Use when features are continuous and approximately normally distributed.\n",
    "Examples: Predicting test scores based on continuous metrics, medical diagnoses with continuous measurements.\n",
    "Multinomial Naive Bayes:\n",
    "\n",
    "Use when features are discrete counts or frequencies.\n",
    "Examples: Text classification, document categorization.\n",
    "Bernoulli Naive Bayes:\n",
    "\n",
    "Use when features are binary or represent the presence/absence of attributes.\n",
    "Examples: Spam detection, binary document classification.\n",
    "Choosing the Right Classifier\n",
    "Understand Your Data:\n",
    "\n",
    "Determine whether your features are continuous or discrete.\n",
    "Identify if your features are counts/frequencies or binary.\n",
    "Experiment and Validate:\n",
    "\n",
    "It's often beneficial to experiment with different types of Naive Bayes classifiers and use cross-validation to determine which one performs best on your specific dataset.\n",
    "Consider Data Distribution:\n",
    "\n",
    "If you believe your features follow a Gaussian distribution, Gaussian Naive Bayes might be appropriate.\n",
    "If you are working with word counts or term frequencies, Multinomial Naive Bayes is typically suitable.\n",
    "For binary features, Bernoulli Naive Bayes is often the best choice.\n",
    "By considering the type of data you have and the assumptions each Naive Bayes variant makes, you can select the most appropriate classifier for your problem.\n"
   ]
  },
  {
   "cell_type": "code",
   "execution_count": null,
   "id": "2f338094",
   "metadata": {},
   "outputs": [],
   "source": [
    "Q6. Assignment:\n",
    "You have a dataset with two features, X1 and X2, and two possible classes, A and B. You want to use Naive\n",
    "Bayes to classify a new instance with features X1 = 3 and X2 = 4. The following table shows the frequency of\n",
    "each feature value for each class:\n",
    "Class X1=1 X1=2 X1=3 X2=1 X2=2 X2=3 X2=4\n",
    "A 3 3 4 4 3 3 3\n",
    "B 2 2 1 2 2 2 3\n",
    "Assuming equal prior probabilities for each class, which class would Naive Bayes predict the new instance\n",
    "to belong to?\n"
   ]
  },
  {
   "cell_type": "markdown",
   "id": "71b82239",
   "metadata": {},
   "source": []
  }
 ],
 "metadata": {
  "kernelspec": {
   "display_name": "Python 3 (ipykernel)",
   "language": "python",
   "name": "python3"
  },
  "language_info": {
   "codemirror_mode": {
    "name": "ipython",
    "version": 3
   },
   "file_extension": ".py",
   "mimetype": "text/x-python",
   "name": "python",
   "nbconvert_exporter": "python",
   "pygments_lexer": "ipython3",
   "version": "3.11.4"
  }
 },
 "nbformat": 4,
 "nbformat_minor": 5
}
